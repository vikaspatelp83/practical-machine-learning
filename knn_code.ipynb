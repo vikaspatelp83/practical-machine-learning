{
 "cells": [
  {
   "cell_type": "markdown",
   "metadata": {},
   "source": [
    "# KNN - k nearest neighbor classifier code in Python"
   ]
  },
  {
   "cell_type": "markdown",
   "metadata": {},
   "source": [
    "### Import the libraries"
   ]
  },
  {
   "cell_type": "code",
   "execution_count": 1,
   "metadata": {},
   "outputs": [],
   "source": [
    "from sklearn import datasets # dataset\n",
    "from sklearn.neighbors import KNeighborsClassifier #knn classifier "
   ]
  },
  {
   "cell_type": "markdown",
   "metadata": {},
   "source": [
    "#### load dataset"
   ]
  },
  {
   "cell_type": "code",
   "execution_count": 2,
   "metadata": {},
   "outputs": [],
   "source": [
    "iris = datasets.load_iris()"
   ]
  },
  {
   "cell_type": "markdown",
   "metadata": {},
   "source": [
    "#### Print features and targets"
   ]
  },
  {
   "cell_type": "code",
   "execution_count": 3,
   "metadata": {},
   "outputs": [
    {
     "name": "stdout",
     "output_type": "stream",
     "text": [
      "features = [5.1 3.5 1.4 0.2]\n",
      "labels = 0\n"
     ]
    }
   ],
   "source": [
    "features = iris.data\n",
    "labels = iris.target\n",
    "\n",
    "print(\"features =\", features[0])\n",
    "print(\"labels =\",labels[0])"
   ]
  },
  {
   "cell_type": "markdown",
   "metadata": {},
   "source": [
    "##### description of above result  "
   ]
  },
  {
   "cell_type": "markdown",
   "metadata": {},
   "source": [
    "Labels or \n",
    "Classes :\n",
    "* 0 -> iris setosa\n",
    "* 1 -> iris versicolor\n",
    "* 2 -> iris verginica\n",
    "\n",
    "Features : by their occurence\n",
    "* sepal length\n",
    "* sepal width\n",
    "* petal length\n",
    "* petal width"
   ]
  },
  {
   "cell_type": "markdown",
   "metadata": {},
   "source": [
    "#### Classifier train"
   ]
  },
  {
   "cell_type": "code",
   "execution_count": 7,
   "metadata": {},
   "outputs": [
    {
     "data": {
      "text/plain": [
       "KNeighborsClassifier(algorithm='auto', leaf_size=30, metric='minkowski',\n",
       "                     metric_params=None, n_jobs=None, n_neighbors=5, p=2,\n",
       "                     weights='uniform')"
      ]
     },
     "execution_count": 7,
     "metadata": {},
     "output_type": "execute_result"
    }
   ],
   "source": [
    "clf = KNeighborsClassifier()\n",
    "clf.fit(features,labels)"
   ]
  },
  {
   "cell_type": "markdown",
   "metadata": {},
   "source": [
    "##### Predict new data "
   ]
  },
  {
   "cell_type": "markdown",
   "metadata": {},
   "source": [
    "> clf.predict ( [ [ sepal_length, sepal_width, petal_length, petal_width ] ] )\n",
    "\n",
    "Classes :\n",
    "* [0] -> iris setosa\n",
    "* [1] -> iris versicolor\n",
    "* [2] -> iris verginica\n",
    "\n",
    "> classes = {0:\"Iris Setosa\", 1:\"Iris Versicolor\", 2:\"Iris Verginica\"}"
   ]
  },
  {
   "cell_type": "code",
   "execution_count": 36,
   "metadata": {},
   "outputs": [],
   "source": [
    "classes = {0:\"Iris Setosa\", 1:\"Iris Versicolor\", 2:\"Iris Verginica\"}"
   ]
  },
  {
   "cell_type": "code",
   "execution_count": 37,
   "metadata": {},
   "outputs": [
    {
     "name": "stdout",
     "output_type": "stream",
     "text": [
      "[0]\n"
     ]
    }
   ],
   "source": [
    "pred = clf.predict ([[1,1,1,1]])\n",
    "print(pred)"
   ]
  },
  {
   "cell_type": "markdown",
   "metadata": {},
   "source": [
    "##### print name of the class"
   ]
  },
  {
   "cell_type": "code",
   "execution_count": 41,
   "metadata": {},
   "outputs": [
    {
     "name": "stdout",
     "output_type": "stream",
     "text": [
      "Iris Setosa\n"
     ]
    }
   ],
   "source": [
    "print(classes[0])"
   ]
  },
  {
   "cell_type": "markdown",
   "metadata": {},
   "source": [
    "##### print names of the classes \n",
    "### defining a function"
   ]
  },
  {
   "cell_type": "code",
   "execution_count": 182,
   "metadata": {},
   "outputs": [],
   "source": [
    "def print_label(found_labels,xdata):\n",
    "    i = 0 \n",
    "    print(\"Class\\t\\t->\\t\\tData\\n\")\n",
    "    for label_id in found_labels:\n",
    "        print(classes[label_id],\"\\t->\\t\",xdata[i])\n",
    "        i += 1"
   ]
  },
  {
   "cell_type": "markdown",
   "metadata": {},
   "source": [
    "### Let's classify a list of new data"
   ]
  },
  {
   "cell_type": "markdown",
   "metadata": {},
   "source": [
    "#### Data is here \n",
    "> data is a two dimensional array\n",
    "\n",
    "```\n",
    "data = [\n",
    "            [ sepal_length, sepal_width, petal_length, petal_width ],\n",
    "            [ sepal_length, sepal_width, petal_length, petal_width ],\n",
    "            [ sepal_length, sepal_width, petal_length, petal_width ],\n",
    "            .\n",
    "            .\n",
    "            .\n",
    "            [ sepal_length, sepal_width, petal_length, petal_width ]\n",
    "        ]\n",
    "```\n"
   ]
  },
  {
   "cell_type": "code",
   "execution_count": 83,
   "metadata": {},
   "outputs": [],
   "source": [
    "data = [\n",
    "    [2,4,2,4],\n",
    "    [3,5,1,7],\n",
    "    [6,2,6,3],\n",
    "    [5.3,7.5,25,9.7],\n",
    "    [5.3,7.5,25,19.7],\n",
    "    [2,4,2,4],\n",
    "    [3,5,1,7],\n",
    "    [6,2,6,3],\n",
    "    [5.3,7.5,25,9.7],\n",
    "    [5.3,7.5,25,19.7]\n",
    "    \n",
    "]"
   ]
  },
  {
   "cell_type": "markdown",
   "metadata": {},
   "source": [
    "##### Predict"
   ]
  },
  {
   "cell_type": "code",
   "execution_count": 84,
   "metadata": {},
   "outputs": [],
   "source": [
    "# predict\n",
    "prediction = clf.predict(data)"
   ]
  },
  {
   "cell_type": "code",
   "execution_count": 85,
   "metadata": {},
   "outputs": [
    {
     "name": "stdout",
     "output_type": "stream",
     "text": [
      "[0 0 2 2 2 0 0 2 2 2]\n"
     ]
    }
   ],
   "source": [
    "print(prediction)\n",
    "found_labels = list(prediction)"
   ]
  },
  {
   "cell_type": "markdown",
   "metadata": {},
   "source": [
    "##### print the classes according to the data"
   ]
  },
  {
   "cell_type": "code",
   "execution_count": 186,
   "metadata": {},
   "outputs": [
    {
     "name": "stdout",
     "output_type": "stream",
     "text": [
      "Class\t\t->\t\tData\n",
      "\n",
      "Iris Setosa \t->\t [2, 4, 2, 4]\n",
      "Iris Setosa \t->\t [3, 5, 1, 7]\n",
      "Iris Verginica \t->\t [6, 2, 6, 3]\n",
      "Iris Verginica \t->\t [5.3, 7.5, 25, 9.7]\n",
      "Iris Verginica \t->\t [5.3, 7.5, 25, 19.7]\n",
      "Iris Setosa \t->\t [2, 4, 2, 4]\n",
      "Iris Setosa \t->\t [3, 5, 1, 7]\n",
      "Iris Verginica \t->\t [6, 2, 6, 3]\n",
      "Iris Verginica \t->\t [5.3, 7.5, 25, 9.7]\n",
      "Iris Verginica \t->\t [5.3, 7.5, 25, 19.7]\n"
     ]
    }
   ],
   "source": [
    "print_label(found_labels,data)"
   ]
  },
  {
   "cell_type": "markdown",
   "metadata": {},
   "source": [
    "#### create a large dataset"
   ]
  },
  {
   "cell_type": "code",
   "execution_count": 183,
   "metadata": {},
   "outputs": [],
   "source": [
    "new_data =[]\n",
    "import random\n",
    "for i in range(400):\n",
    "    new_data.append(random.randrange(1, 20, 1))"
   ]
  },
  {
   "cell_type": "markdown",
   "metadata": {},
   "source": [
    "##### Reshape the data into ( 4, 1 ) size"
   ]
  },
  {
   "cell_type": "code",
   "execution_count": 184,
   "metadata": {},
   "outputs": [],
   "source": [
    "import numpy as np\n",
    "mdata = np.array(new_data)\n",
    "ndata = mdata.reshape(100,4)"
   ]
  },
  {
   "cell_type": "markdown",
   "metadata": {},
   "source": [
    "##### predict the result"
   ]
  },
  {
   "cell_type": "code",
   "execution_count": 157,
   "metadata": {},
   "outputs": [],
   "source": [
    "prediction = clf.predict(ndata)"
   ]
  },
  {
   "cell_type": "markdown",
   "metadata": {},
   "source": [
    "##### print names of classes"
   ]
  },
  {
   "cell_type": "code",
   "execution_count": 175,
   "metadata": {},
   "outputs": [],
   "source": [
    "#print_label(list(prediction),list(ndata))\n"
   ]
  }
 ],
 "metadata": {
  "kernelspec": {
   "display_name": "Python 3",
   "language": "python",
   "name": "python3"
  },
  "language_info": {
   "codemirror_mode": {
    "name": "ipython",
    "version": 3
   },
   "file_extension": ".py",
   "mimetype": "text/x-python",
   "name": "python",
   "nbconvert_exporter": "python",
   "pygments_lexer": "ipython3",
   "version": "3.7.3"
  }
 },
 "nbformat": 4,
 "nbformat_minor": 2
}
